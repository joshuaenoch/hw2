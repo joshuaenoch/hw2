{
 "cells": [
  {
   "cell_type": "code",
   "execution_count": 2,
   "metadata": {},
   "outputs": [],
   "source": [
    "import os\n",
    "import pandas as pd\n",
    "from decision_tree import DecisionTree\n",
    "from metric_evaluation import MetricEvaluation\n",
    "from sklearn.model_selection import train_test_split\n",
    "\n",
    "#from sklearn.tree import DecisionTreeClassifier\n",
    "#from sklearn.metrics import classification_report\n",
    "\n",
    "# load csv files\n",
    "find_dir = os.getcwd()\n",
    "train_path = os.path.join(find_dir, \"train.csv\")\n",
    "train_data = pd.read_csv(train_path)\n",
    "\n",
    "# select features and target variable\n",
    "y = train_data[\"Survived\"]\n",
    "features = [\"Pclass\", \"Sex\", \"SibSp\", \"Parch\"]\n",
    "X = pd.get_dummies(train_data[features])\n",
    "X = X.drop(columns=[\"Sex_female\"])\n",
    "# split data\n",
    "train_X, test_X, train_y, test_y = train_test_split(X, y, test_size=0.1, random_state=1)\n",
    "\n",
    "# instantiate decision tree and create model\n",
    "dt = DecisionTree(train_X)"
   ]
  },
  {
   "cell_type": "code",
   "execution_count": null,
   "metadata": {},
   "outputs": [],
   "source": []
  }
 ],
 "metadata": {
  "kernelspec": {
   "display_name": "Python 3",
   "language": "python",
   "name": "python3"
  },
  "language_info": {
   "codemirror_mode": {
    "name": "ipython",
    "version": 3
   },
   "file_extension": ".py",
   "mimetype": "text/x-python",
   "name": "python",
   "nbconvert_exporter": "python",
   "pygments_lexer": "ipython3",
   "version": "3.12.8"
  }
 },
 "nbformat": 4,
 "nbformat_minor": 2
}
